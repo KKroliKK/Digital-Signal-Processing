{
 "cells": [
  {
   "cell_type": "code",
   "execution_count": 1,
   "metadata": {},
   "outputs": [],
   "source": [
    "from thinkdsp import CosSignal, SinSignal, SquareSignal, SawtoothSignal, ParabolicSignal, CubicSignal, TriangleSignal, GlottalSignal, decorate\n",
    "import matplotlib.pyplot as plt\n",
    "import numpy as np"
   ]
  },
  {
   "cell_type": "code",
   "execution_count": null,
   "metadata": {},
   "outputs": [],
   "source": [
    "# to play wave\n",
    "from thinkdsp import play_wave\n",
    "\n",
    "play_wave(filename='temp.wav', player='aplay')"
   ]
  },
  {
   "cell_type": "code",
   "execution_count": null,
   "metadata": {},
   "outputs": [],
   "source": [
    "# to read sound\n",
    "from thinkdsp import read_wave\n",
    "\n",
    "wave = read_wave('dsp_pack/code/92002__jcveliz__violin-origional.wav')"
   ]
  },
  {
   "cell_type": "code",
   "execution_count": null,
   "metadata": {},
   "outputs": [],
   "source": [
    "wave.make_audio()"
   ]
  }
 ],
 "metadata": {
  "kernelspec": {
   "display_name": "base",
   "language": "python",
   "name": "python3"
  },
  "language_info": {
   "codemirror_mode": {
    "name": "ipython",
    "version": 3
   },
   "file_extension": ".py",
   "mimetype": "text/x-python",
   "name": "python",
   "nbconvert_exporter": "python",
   "pygments_lexer": "ipython3",
   "version": "3.8.8"
  },
  "orig_nbformat": 4,
  "vscode": {
   "interpreter": {
    "hash": "82ca00de6dfeb9e2eef59d83b518ae9b61e5781747466ffa06053c845d8d3ce9"
   }
  }
 },
 "nbformat": 4,
 "nbformat_minor": 2
}
